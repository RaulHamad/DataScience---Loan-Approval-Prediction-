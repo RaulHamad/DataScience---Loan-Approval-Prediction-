{
 "cells": [
  {
   "cell_type": "markdown",
   "id": "072c953f-aac2-40ed-babd-cc76ea9e7f85",
   "metadata": {},
   "source": [
    "# Link: https://www.kaggle.com/datasets/architsharma01/loan-approval-prediction-dataset/data"
   ]
  },
  {
   "cell_type": "code",
   "execution_count": 42,
   "id": "e86bb6b9-5148-488a-882b-0ef372bc1e0d",
   "metadata": {},
   "outputs": [
    {
     "name": "stdout",
     "output_type": "stream",
     "text": [
      "1.6.1\n"
     ]
    }
   ],
   "source": [
    "import sklearn\n",
    "print(sklearn.__version__)"
   ]
  },
  {
   "cell_type": "code",
   "execution_count": 43,
   "id": "3360290b-4de5-4c39-82d8-7a00b9a0cfb4",
   "metadata": {},
   "outputs": [],
   "source": [
    "import pandas as pd\n",
    "import numpy as np\n",
    "import pickle\n",
    "import seaborn as sns\n",
    "import matplotlib as plt\n",
    "import plotly.express as px"
   ]
  },
  {
   "cell_type": "code",
   "execution_count": 44,
   "id": "487d1565-a1c5-401e-bd29-9d0491a5c3cf",
   "metadata": {},
   "outputs": [
    {
     "data": {
      "text/html": [
       "<div>\n",
       "<style scoped>\n",
       "    .dataframe tbody tr th:only-of-type {\n",
       "        vertical-align: middle;\n",
       "    }\n",
       "\n",
       "    .dataframe tbody tr th {\n",
       "        vertical-align: top;\n",
       "    }\n",
       "\n",
       "    .dataframe thead th {\n",
       "        text-align: right;\n",
       "    }\n",
       "</style>\n",
       "<table border=\"1\" class=\"dataframe\">\n",
       "  <thead>\n",
       "    <tr style=\"text-align: right;\">\n",
       "      <th></th>\n",
       "      <th>loan_id</th>\n",
       "      <th>no_of_dependents</th>\n",
       "      <th>education</th>\n",
       "      <th>self_employed</th>\n",
       "      <th>income_annum</th>\n",
       "      <th>loan_amount</th>\n",
       "      <th>loan_term</th>\n",
       "      <th>cibil_score</th>\n",
       "      <th>residential_assets_value</th>\n",
       "      <th>commercial_assets_value</th>\n",
       "      <th>luxury_assets_value</th>\n",
       "      <th>bank_asset_value</th>\n",
       "      <th>loan_status</th>\n",
       "    </tr>\n",
       "  </thead>\n",
       "  <tbody>\n",
       "    <tr>\n",
       "      <th>0</th>\n",
       "      <td>1</td>\n",
       "      <td>2</td>\n",
       "      <td>Graduate</td>\n",
       "      <td>No</td>\n",
       "      <td>9600000</td>\n",
       "      <td>29900000</td>\n",
       "      <td>12</td>\n",
       "      <td>778</td>\n",
       "      <td>2400000</td>\n",
       "      <td>17600000</td>\n",
       "      <td>22700000</td>\n",
       "      <td>8000000</td>\n",
       "      <td>Approved</td>\n",
       "    </tr>\n",
       "    <tr>\n",
       "      <th>1</th>\n",
       "      <td>2</td>\n",
       "      <td>0</td>\n",
       "      <td>Not Graduate</td>\n",
       "      <td>Yes</td>\n",
       "      <td>4100000</td>\n",
       "      <td>12200000</td>\n",
       "      <td>8</td>\n",
       "      <td>417</td>\n",
       "      <td>2700000</td>\n",
       "      <td>2200000</td>\n",
       "      <td>8800000</td>\n",
       "      <td>3300000</td>\n",
       "      <td>Rejected</td>\n",
       "    </tr>\n",
       "    <tr>\n",
       "      <th>2</th>\n",
       "      <td>3</td>\n",
       "      <td>3</td>\n",
       "      <td>Graduate</td>\n",
       "      <td>No</td>\n",
       "      <td>9100000</td>\n",
       "      <td>29700000</td>\n",
       "      <td>20</td>\n",
       "      <td>506</td>\n",
       "      <td>7100000</td>\n",
       "      <td>4500000</td>\n",
       "      <td>33300000</td>\n",
       "      <td>12800000</td>\n",
       "      <td>Rejected</td>\n",
       "    </tr>\n",
       "    <tr>\n",
       "      <th>3</th>\n",
       "      <td>4</td>\n",
       "      <td>3</td>\n",
       "      <td>Graduate</td>\n",
       "      <td>No</td>\n",
       "      <td>8200000</td>\n",
       "      <td>30700000</td>\n",
       "      <td>8</td>\n",
       "      <td>467</td>\n",
       "      <td>18200000</td>\n",
       "      <td>3300000</td>\n",
       "      <td>23300000</td>\n",
       "      <td>7900000</td>\n",
       "      <td>Rejected</td>\n",
       "    </tr>\n",
       "    <tr>\n",
       "      <th>4</th>\n",
       "      <td>5</td>\n",
       "      <td>5</td>\n",
       "      <td>Not Graduate</td>\n",
       "      <td>Yes</td>\n",
       "      <td>9800000</td>\n",
       "      <td>24200000</td>\n",
       "      <td>20</td>\n",
       "      <td>382</td>\n",
       "      <td>12400000</td>\n",
       "      <td>8200000</td>\n",
       "      <td>29400000</td>\n",
       "      <td>5000000</td>\n",
       "      <td>Rejected</td>\n",
       "    </tr>\n",
       "    <tr>\n",
       "      <th>...</th>\n",
       "      <td>...</td>\n",
       "      <td>...</td>\n",
       "      <td>...</td>\n",
       "      <td>...</td>\n",
       "      <td>...</td>\n",
       "      <td>...</td>\n",
       "      <td>...</td>\n",
       "      <td>...</td>\n",
       "      <td>...</td>\n",
       "      <td>...</td>\n",
       "      <td>...</td>\n",
       "      <td>...</td>\n",
       "      <td>...</td>\n",
       "    </tr>\n",
       "    <tr>\n",
       "      <th>4264</th>\n",
       "      <td>4265</td>\n",
       "      <td>5</td>\n",
       "      <td>Graduate</td>\n",
       "      <td>Yes</td>\n",
       "      <td>1000000</td>\n",
       "      <td>2300000</td>\n",
       "      <td>12</td>\n",
       "      <td>317</td>\n",
       "      <td>2800000</td>\n",
       "      <td>500000</td>\n",
       "      <td>3300000</td>\n",
       "      <td>800000</td>\n",
       "      <td>Rejected</td>\n",
       "    </tr>\n",
       "    <tr>\n",
       "      <th>4265</th>\n",
       "      <td>4266</td>\n",
       "      <td>0</td>\n",
       "      <td>Not Graduate</td>\n",
       "      <td>Yes</td>\n",
       "      <td>3300000</td>\n",
       "      <td>11300000</td>\n",
       "      <td>20</td>\n",
       "      <td>559</td>\n",
       "      <td>4200000</td>\n",
       "      <td>2900000</td>\n",
       "      <td>11000000</td>\n",
       "      <td>1900000</td>\n",
       "      <td>Approved</td>\n",
       "    </tr>\n",
       "    <tr>\n",
       "      <th>4266</th>\n",
       "      <td>4267</td>\n",
       "      <td>2</td>\n",
       "      <td>Not Graduate</td>\n",
       "      <td>No</td>\n",
       "      <td>6500000</td>\n",
       "      <td>23900000</td>\n",
       "      <td>18</td>\n",
       "      <td>457</td>\n",
       "      <td>1200000</td>\n",
       "      <td>12400000</td>\n",
       "      <td>18100000</td>\n",
       "      <td>7300000</td>\n",
       "      <td>Rejected</td>\n",
       "    </tr>\n",
       "    <tr>\n",
       "      <th>4267</th>\n",
       "      <td>4268</td>\n",
       "      <td>1</td>\n",
       "      <td>Not Graduate</td>\n",
       "      <td>No</td>\n",
       "      <td>4100000</td>\n",
       "      <td>12800000</td>\n",
       "      <td>8</td>\n",
       "      <td>780</td>\n",
       "      <td>8200000</td>\n",
       "      <td>700000</td>\n",
       "      <td>14100000</td>\n",
       "      <td>5800000</td>\n",
       "      <td>Approved</td>\n",
       "    </tr>\n",
       "    <tr>\n",
       "      <th>4268</th>\n",
       "      <td>4269</td>\n",
       "      <td>1</td>\n",
       "      <td>Graduate</td>\n",
       "      <td>No</td>\n",
       "      <td>9200000</td>\n",
       "      <td>29700000</td>\n",
       "      <td>10</td>\n",
       "      <td>607</td>\n",
       "      <td>17800000</td>\n",
       "      <td>11800000</td>\n",
       "      <td>35700000</td>\n",
       "      <td>12000000</td>\n",
       "      <td>Approved</td>\n",
       "    </tr>\n",
       "  </tbody>\n",
       "</table>\n",
       "<p>4269 rows × 13 columns</p>\n",
       "</div>"
      ],
      "text/plain": [
       "      loan_id   no_of_dependents      education  self_employed   income_annum  \\\n",
       "0           1                  2       Graduate             No        9600000   \n",
       "1           2                  0   Not Graduate            Yes        4100000   \n",
       "2           3                  3       Graduate             No        9100000   \n",
       "3           4                  3       Graduate             No        8200000   \n",
       "4           5                  5   Not Graduate            Yes        9800000   \n",
       "...       ...                ...            ...            ...            ...   \n",
       "4264     4265                  5       Graduate            Yes        1000000   \n",
       "4265     4266                  0   Not Graduate            Yes        3300000   \n",
       "4266     4267                  2   Not Graduate             No        6500000   \n",
       "4267     4268                  1   Not Graduate             No        4100000   \n",
       "4268     4269                  1       Graduate             No        9200000   \n",
       "\n",
       "       loan_amount   loan_term   cibil_score   residential_assets_value  \\\n",
       "0         29900000          12           778                    2400000   \n",
       "1         12200000           8           417                    2700000   \n",
       "2         29700000          20           506                    7100000   \n",
       "3         30700000           8           467                   18200000   \n",
       "4         24200000          20           382                   12400000   \n",
       "...            ...         ...           ...                        ...   \n",
       "4264       2300000          12           317                    2800000   \n",
       "4265      11300000          20           559                    4200000   \n",
       "4266      23900000          18           457                    1200000   \n",
       "4267      12800000           8           780                    8200000   \n",
       "4268      29700000          10           607                   17800000   \n",
       "\n",
       "       commercial_assets_value   luxury_assets_value   bank_asset_value  \\\n",
       "0                     17600000              22700000            8000000   \n",
       "1                      2200000               8800000            3300000   \n",
       "2                      4500000              33300000           12800000   \n",
       "3                      3300000              23300000            7900000   \n",
       "4                      8200000              29400000            5000000   \n",
       "...                        ...                   ...                ...   \n",
       "4264                    500000               3300000             800000   \n",
       "4265                   2900000              11000000            1900000   \n",
       "4266                  12400000              18100000            7300000   \n",
       "4267                    700000              14100000            5800000   \n",
       "4268                  11800000              35700000           12000000   \n",
       "\n",
       "      loan_status  \n",
       "0        Approved  \n",
       "1        Rejected  \n",
       "2        Rejected  \n",
       "3        Rejected  \n",
       "4        Rejected  \n",
       "...           ...  \n",
       "4264     Rejected  \n",
       "4265     Approved  \n",
       "4266     Rejected  \n",
       "4267     Approved  \n",
       "4268     Approved  \n",
       "\n",
       "[4269 rows x 13 columns]"
      ]
     },
     "execution_count": 44,
     "metadata": {},
     "output_type": "execute_result"
    }
   ],
   "source": [
    "df = pd.read_csv(\"loan_approval_dataset.csv\")\n",
    "df"
   ]
  },
  {
   "cell_type": "markdown",
   "id": "91cea639-0829-417b-9aaa-590d79383c3e",
   "metadata": {},
   "source": [
    "## Cambiar nombres de las columnas\n",
    "#### Quitar los espacios antes de los nombres"
   ]
  },
  {
   "cell_type": "code",
   "execution_count": 45,
   "id": "645afe45-5005-4ea0-a72c-4dbbbd7d272c",
   "metadata": {},
   "outputs": [
    {
     "name": "stdout",
     "output_type": "stream",
     "text": [
      "Columnas original\n",
      "['loan_id', ' no_of_dependents', ' education', ' self_employed', ' income_annum', ' loan_amount', ' loan_term', ' cibil_score', ' residential_assets_value', ' commercial_assets_value', ' luxury_assets_value', ' bank_asset_value', ' loan_status']\n",
      "Columnas sin espacios antes de los nombres\n",
      "['loan_id', 'no_of_dependents', 'education', 'self_employed', 'income_annum', 'loan_amount', 'loan_term', 'cibil_score', 'residential_assets_value', 'commercial_assets_value', 'luxury_assets_value', 'bank_asset_value', 'loan_status']\n"
     ]
    }
   ],
   "source": [
    "print(\"Columnas original\")\n",
    "print(df.columns.tolist())\n",
    "df.columns = df.columns.str.strip()\n",
    "print(\"Columnas sin espacios antes de los nombres\")\n",
    "print(df.columns.tolist())\n",
    "df['education'] = df['education'].str.lstrip()\n",
    "df['self_employed'] = df['self_employed'].str.lstrip()\n",
    "df['loan_status'] = df['loan_status'].str.lstrip()\n",
    "    "
   ]
  },
  {
   "cell_type": "code",
   "execution_count": 46,
   "id": "bc8c8e02-5a20-4dda-8c70-6825404f6c93",
   "metadata": {},
   "outputs": [],
   "source": [
    "df = df.rename(columns={\n",
    "    \"loan_id\": \"ID\",\n",
    "    \"no_of_dependents\": \"N_Dependientes\",\n",
    "    \"education\":\"Educación\",\n",
    "    \"self_employed\": \"Trabajador_Autonomo\",\n",
    "    \"income_annum\": \"Ingresos_Anuales\",\n",
    "    \"loan_amount\" : \"Valor_Préstamo\",\n",
    "    \"loan_term\" : \"Plazo_Préstamo\",\n",
    "    \"cibil_score\" : \"Pontuación_Crédito\",\n",
    "    \"residential_assets_value\": \"Valor_Activos_Residenciales\",\n",
    "    \"commercial_assets_value\" :\"Valor_Activos_Comerciales\",\n",
    "    \"luxury_assets_value\": \"Valor_Activos_Lujo\",\n",
    "    \"bank_asset_value\": \"Valor_Activo_Bancário\",\n",
    "    \"loan_status\" : \"Status_Préstamo\" })"
   ]
  },
  {
   "cell_type": "code",
   "execution_count": 47,
   "id": "665fead8-0d0b-4dbe-bcc1-81c686d70ed7",
   "metadata": {},
   "outputs": [
    {
     "data": {
      "text/html": [
       "<div>\n",
       "<style scoped>\n",
       "    .dataframe tbody tr th:only-of-type {\n",
       "        vertical-align: middle;\n",
       "    }\n",
       "\n",
       "    .dataframe tbody tr th {\n",
       "        vertical-align: top;\n",
       "    }\n",
       "\n",
       "    .dataframe thead th {\n",
       "        text-align: right;\n",
       "    }\n",
       "</style>\n",
       "<table border=\"1\" class=\"dataframe\">\n",
       "  <thead>\n",
       "    <tr style=\"text-align: right;\">\n",
       "      <th></th>\n",
       "      <th>ID</th>\n",
       "      <th>N_Dependientes</th>\n",
       "      <th>Educación</th>\n",
       "      <th>Trabajador_Autonomo</th>\n",
       "      <th>Ingresos_Anuales</th>\n",
       "      <th>Valor_Préstamo</th>\n",
       "      <th>Plazo_Préstamo</th>\n",
       "      <th>Pontuación_Crédito</th>\n",
       "      <th>Valor_Activos_Residenciales</th>\n",
       "      <th>Valor_Activos_Comerciales</th>\n",
       "      <th>Valor_Activos_Lujo</th>\n",
       "      <th>Valor_Activo_Bancário</th>\n",
       "      <th>Status_Préstamo</th>\n",
       "    </tr>\n",
       "  </thead>\n",
       "  <tbody>\n",
       "    <tr>\n",
       "      <th>0</th>\n",
       "      <td>1</td>\n",
       "      <td>2</td>\n",
       "      <td>Graduate</td>\n",
       "      <td>No</td>\n",
       "      <td>9600000</td>\n",
       "      <td>29900000</td>\n",
       "      <td>12</td>\n",
       "      <td>778</td>\n",
       "      <td>2400000</td>\n",
       "      <td>17600000</td>\n",
       "      <td>22700000</td>\n",
       "      <td>8000000</td>\n",
       "      <td>Approved</td>\n",
       "    </tr>\n",
       "    <tr>\n",
       "      <th>1</th>\n",
       "      <td>2</td>\n",
       "      <td>0</td>\n",
       "      <td>Not Graduate</td>\n",
       "      <td>Yes</td>\n",
       "      <td>4100000</td>\n",
       "      <td>12200000</td>\n",
       "      <td>8</td>\n",
       "      <td>417</td>\n",
       "      <td>2700000</td>\n",
       "      <td>2200000</td>\n",
       "      <td>8800000</td>\n",
       "      <td>3300000</td>\n",
       "      <td>Rejected</td>\n",
       "    </tr>\n",
       "    <tr>\n",
       "      <th>2</th>\n",
       "      <td>3</td>\n",
       "      <td>3</td>\n",
       "      <td>Graduate</td>\n",
       "      <td>No</td>\n",
       "      <td>9100000</td>\n",
       "      <td>29700000</td>\n",
       "      <td>20</td>\n",
       "      <td>506</td>\n",
       "      <td>7100000</td>\n",
       "      <td>4500000</td>\n",
       "      <td>33300000</td>\n",
       "      <td>12800000</td>\n",
       "      <td>Rejected</td>\n",
       "    </tr>\n",
       "    <tr>\n",
       "      <th>3</th>\n",
       "      <td>4</td>\n",
       "      <td>3</td>\n",
       "      <td>Graduate</td>\n",
       "      <td>No</td>\n",
       "      <td>8200000</td>\n",
       "      <td>30700000</td>\n",
       "      <td>8</td>\n",
       "      <td>467</td>\n",
       "      <td>18200000</td>\n",
       "      <td>3300000</td>\n",
       "      <td>23300000</td>\n",
       "      <td>7900000</td>\n",
       "      <td>Rejected</td>\n",
       "    </tr>\n",
       "    <tr>\n",
       "      <th>4</th>\n",
       "      <td>5</td>\n",
       "      <td>5</td>\n",
       "      <td>Not Graduate</td>\n",
       "      <td>Yes</td>\n",
       "      <td>9800000</td>\n",
       "      <td>24200000</td>\n",
       "      <td>20</td>\n",
       "      <td>382</td>\n",
       "      <td>12400000</td>\n",
       "      <td>8200000</td>\n",
       "      <td>29400000</td>\n",
       "      <td>5000000</td>\n",
       "      <td>Rejected</td>\n",
       "    </tr>\n",
       "    <tr>\n",
       "      <th>...</th>\n",
       "      <td>...</td>\n",
       "      <td>...</td>\n",
       "      <td>...</td>\n",
       "      <td>...</td>\n",
       "      <td>...</td>\n",
       "      <td>...</td>\n",
       "      <td>...</td>\n",
       "      <td>...</td>\n",
       "      <td>...</td>\n",
       "      <td>...</td>\n",
       "      <td>...</td>\n",
       "      <td>...</td>\n",
       "      <td>...</td>\n",
       "    </tr>\n",
       "    <tr>\n",
       "      <th>4264</th>\n",
       "      <td>4265</td>\n",
       "      <td>5</td>\n",
       "      <td>Graduate</td>\n",
       "      <td>Yes</td>\n",
       "      <td>1000000</td>\n",
       "      <td>2300000</td>\n",
       "      <td>12</td>\n",
       "      <td>317</td>\n",
       "      <td>2800000</td>\n",
       "      <td>500000</td>\n",
       "      <td>3300000</td>\n",
       "      <td>800000</td>\n",
       "      <td>Rejected</td>\n",
       "    </tr>\n",
       "    <tr>\n",
       "      <th>4265</th>\n",
       "      <td>4266</td>\n",
       "      <td>0</td>\n",
       "      <td>Not Graduate</td>\n",
       "      <td>Yes</td>\n",
       "      <td>3300000</td>\n",
       "      <td>11300000</td>\n",
       "      <td>20</td>\n",
       "      <td>559</td>\n",
       "      <td>4200000</td>\n",
       "      <td>2900000</td>\n",
       "      <td>11000000</td>\n",
       "      <td>1900000</td>\n",
       "      <td>Approved</td>\n",
       "    </tr>\n",
       "    <tr>\n",
       "      <th>4266</th>\n",
       "      <td>4267</td>\n",
       "      <td>2</td>\n",
       "      <td>Not Graduate</td>\n",
       "      <td>No</td>\n",
       "      <td>6500000</td>\n",
       "      <td>23900000</td>\n",
       "      <td>18</td>\n",
       "      <td>457</td>\n",
       "      <td>1200000</td>\n",
       "      <td>12400000</td>\n",
       "      <td>18100000</td>\n",
       "      <td>7300000</td>\n",
       "      <td>Rejected</td>\n",
       "    </tr>\n",
       "    <tr>\n",
       "      <th>4267</th>\n",
       "      <td>4268</td>\n",
       "      <td>1</td>\n",
       "      <td>Not Graduate</td>\n",
       "      <td>No</td>\n",
       "      <td>4100000</td>\n",
       "      <td>12800000</td>\n",
       "      <td>8</td>\n",
       "      <td>780</td>\n",
       "      <td>8200000</td>\n",
       "      <td>700000</td>\n",
       "      <td>14100000</td>\n",
       "      <td>5800000</td>\n",
       "      <td>Approved</td>\n",
       "    </tr>\n",
       "    <tr>\n",
       "      <th>4268</th>\n",
       "      <td>4269</td>\n",
       "      <td>1</td>\n",
       "      <td>Graduate</td>\n",
       "      <td>No</td>\n",
       "      <td>9200000</td>\n",
       "      <td>29700000</td>\n",
       "      <td>10</td>\n",
       "      <td>607</td>\n",
       "      <td>17800000</td>\n",
       "      <td>11800000</td>\n",
       "      <td>35700000</td>\n",
       "      <td>12000000</td>\n",
       "      <td>Approved</td>\n",
       "    </tr>\n",
       "  </tbody>\n",
       "</table>\n",
       "<p>4269 rows × 13 columns</p>\n",
       "</div>"
      ],
      "text/plain": [
       "        ID  N_Dependientes     Educación Trabajador_Autonomo  \\\n",
       "0        1               2      Graduate                  No   \n",
       "1        2               0  Not Graduate                 Yes   \n",
       "2        3               3      Graduate                  No   \n",
       "3        4               3      Graduate                  No   \n",
       "4        5               5  Not Graduate                 Yes   \n",
       "...    ...             ...           ...                 ...   \n",
       "4264  4265               5      Graduate                 Yes   \n",
       "4265  4266               0  Not Graduate                 Yes   \n",
       "4266  4267               2  Not Graduate                  No   \n",
       "4267  4268               1  Not Graduate                  No   \n",
       "4268  4269               1      Graduate                  No   \n",
       "\n",
       "      Ingresos_Anuales  Valor_Préstamo  Plazo_Préstamo  Pontuación_Crédito  \\\n",
       "0              9600000        29900000              12                 778   \n",
       "1              4100000        12200000               8                 417   \n",
       "2              9100000        29700000              20                 506   \n",
       "3              8200000        30700000               8                 467   \n",
       "4              9800000        24200000              20                 382   \n",
       "...                ...             ...             ...                 ...   \n",
       "4264           1000000         2300000              12                 317   \n",
       "4265           3300000        11300000              20                 559   \n",
       "4266           6500000        23900000              18                 457   \n",
       "4267           4100000        12800000               8                 780   \n",
       "4268           9200000        29700000              10                 607   \n",
       "\n",
       "      Valor_Activos_Residenciales  Valor_Activos_Comerciales  \\\n",
       "0                         2400000                   17600000   \n",
       "1                         2700000                    2200000   \n",
       "2                         7100000                    4500000   \n",
       "3                        18200000                    3300000   \n",
       "4                        12400000                    8200000   \n",
       "...                           ...                        ...   \n",
       "4264                      2800000                     500000   \n",
       "4265                      4200000                    2900000   \n",
       "4266                      1200000                   12400000   \n",
       "4267                      8200000                     700000   \n",
       "4268                     17800000                   11800000   \n",
       "\n",
       "      Valor_Activos_Lujo  Valor_Activo_Bancário Status_Préstamo  \n",
       "0               22700000                8000000        Approved  \n",
       "1                8800000                3300000        Rejected  \n",
       "2               33300000               12800000        Rejected  \n",
       "3               23300000                7900000        Rejected  \n",
       "4               29400000                5000000        Rejected  \n",
       "...                  ...                    ...             ...  \n",
       "4264             3300000                 800000        Rejected  \n",
       "4265            11000000                1900000        Approved  \n",
       "4266            18100000                7300000        Rejected  \n",
       "4267            14100000                5800000        Approved  \n",
       "4268            35700000               12000000        Approved  \n",
       "\n",
       "[4269 rows x 13 columns]"
      ]
     },
     "execution_count": 47,
     "metadata": {},
     "output_type": "execute_result"
    }
   ],
   "source": [
    "df"
   ]
  },
  {
   "cell_type": "markdown",
   "id": "9234708c-df81-4ce5-8de1-bff78cceda18",
   "metadata": {},
   "source": [
    "### Comprobar valores nulos"
   ]
  },
  {
   "cell_type": "code",
   "execution_count": 48,
   "id": "cdc59169-3812-4100-934b-60d3ff9ff065",
   "metadata": {},
   "outputs": [
    {
     "data": {
      "text/plain": [
       "ID                             0\n",
       "N_Dependientes                 0\n",
       "Educación                      0\n",
       "Trabajador_Autonomo            0\n",
       "Ingresos_Anuales               0\n",
       "Valor_Préstamo                 0\n",
       "Plazo_Préstamo                 0\n",
       "Pontuación_Crédito             0\n",
       "Valor_Activos_Residenciales    0\n",
       "Valor_Activos_Comerciales      0\n",
       "Valor_Activos_Lujo             0\n",
       "Valor_Activo_Bancário          0\n",
       "Status_Préstamo                0\n",
       "dtype: int64"
      ]
     },
     "execution_count": 48,
     "metadata": {},
     "output_type": "execute_result"
    }
   ],
   "source": [
    "df.isnull().sum()"
   ]
  },
  {
   "cell_type": "markdown",
   "id": "0868a273-970d-41fb-97c7-547fec6854d2",
   "metadata": {},
   "source": [
    "### Cantidad de Préstamos Aprobados"
   ]
  },
  {
   "cell_type": "code",
   "execution_count": 49,
   "id": "8f761202-4067-492e-930a-08673b912390",
   "metadata": {},
   "outputs": [
    {
     "data": {
      "text/plain": [
       "Status_Préstamo\n",
       "Approved    2656\n",
       "Rejected    1613\n",
       "Name: count, dtype: int64"
      ]
     },
     "execution_count": 49,
     "metadata": {},
     "output_type": "execute_result"
    }
   ],
   "source": [
    "df[\"Status_Préstamo\"].value_counts().sort_index()"
   ]
  },
  {
   "cell_type": "code",
   "execution_count": 50,
   "id": "2095be31-1613-48b9-850d-80ce1a20f843",
   "metadata": {},
   "outputs": [
    {
     "data": {
      "text/html": [
       "<div>\n",
       "<style scoped>\n",
       "    .dataframe tbody tr th:only-of-type {\n",
       "        vertical-align: middle;\n",
       "    }\n",
       "\n",
       "    .dataframe tbody tr th {\n",
       "        vertical-align: top;\n",
       "    }\n",
       "\n",
       "    .dataframe thead th {\n",
       "        text-align: right;\n",
       "    }\n",
       "</style>\n",
       "<table border=\"1\" class=\"dataframe\">\n",
       "  <thead>\n",
       "    <tr style=\"text-align: right;\">\n",
       "      <th></th>\n",
       "      <th>ID</th>\n",
       "      <th>N_Dependientes</th>\n",
       "      <th>Ingresos_Anuales</th>\n",
       "      <th>Valor_Préstamo</th>\n",
       "      <th>Plazo_Préstamo</th>\n",
       "      <th>Pontuación_Crédito</th>\n",
       "      <th>Valor_Activos_Residenciales</th>\n",
       "      <th>Valor_Activos_Comerciales</th>\n",
       "      <th>Valor_Activos_Lujo</th>\n",
       "      <th>Valor_Activo_Bancário</th>\n",
       "    </tr>\n",
       "  </thead>\n",
       "  <tbody>\n",
       "    <tr>\n",
       "      <th>count</th>\n",
       "      <td>4269.000000</td>\n",
       "      <td>4269.000000</td>\n",
       "      <td>4.269000e+03</td>\n",
       "      <td>4.269000e+03</td>\n",
       "      <td>4269.000000</td>\n",
       "      <td>4269.000000</td>\n",
       "      <td>4.269000e+03</td>\n",
       "      <td>4.269000e+03</td>\n",
       "      <td>4.269000e+03</td>\n",
       "      <td>4.269000e+03</td>\n",
       "    </tr>\n",
       "    <tr>\n",
       "      <th>mean</th>\n",
       "      <td>2135.000000</td>\n",
       "      <td>2.498712</td>\n",
       "      <td>5.059124e+06</td>\n",
       "      <td>1.513345e+07</td>\n",
       "      <td>10.900445</td>\n",
       "      <td>599.936051</td>\n",
       "      <td>7.472617e+06</td>\n",
       "      <td>4.973155e+06</td>\n",
       "      <td>1.512631e+07</td>\n",
       "      <td>4.976692e+06</td>\n",
       "    </tr>\n",
       "    <tr>\n",
       "      <th>std</th>\n",
       "      <td>1232.498479</td>\n",
       "      <td>1.695910</td>\n",
       "      <td>2.806840e+06</td>\n",
       "      <td>9.043363e+06</td>\n",
       "      <td>5.709187</td>\n",
       "      <td>172.430401</td>\n",
       "      <td>6.503637e+06</td>\n",
       "      <td>4.388966e+06</td>\n",
       "      <td>9.103754e+06</td>\n",
       "      <td>3.250185e+06</td>\n",
       "    </tr>\n",
       "    <tr>\n",
       "      <th>min</th>\n",
       "      <td>1.000000</td>\n",
       "      <td>0.000000</td>\n",
       "      <td>2.000000e+05</td>\n",
       "      <td>3.000000e+05</td>\n",
       "      <td>2.000000</td>\n",
       "      <td>300.000000</td>\n",
       "      <td>-1.000000e+05</td>\n",
       "      <td>0.000000e+00</td>\n",
       "      <td>3.000000e+05</td>\n",
       "      <td>0.000000e+00</td>\n",
       "    </tr>\n",
       "    <tr>\n",
       "      <th>25%</th>\n",
       "      <td>1068.000000</td>\n",
       "      <td>1.000000</td>\n",
       "      <td>2.700000e+06</td>\n",
       "      <td>7.700000e+06</td>\n",
       "      <td>6.000000</td>\n",
       "      <td>453.000000</td>\n",
       "      <td>2.200000e+06</td>\n",
       "      <td>1.300000e+06</td>\n",
       "      <td>7.500000e+06</td>\n",
       "      <td>2.300000e+06</td>\n",
       "    </tr>\n",
       "    <tr>\n",
       "      <th>50%</th>\n",
       "      <td>2135.000000</td>\n",
       "      <td>3.000000</td>\n",
       "      <td>5.100000e+06</td>\n",
       "      <td>1.450000e+07</td>\n",
       "      <td>10.000000</td>\n",
       "      <td>600.000000</td>\n",
       "      <td>5.600000e+06</td>\n",
       "      <td>3.700000e+06</td>\n",
       "      <td>1.460000e+07</td>\n",
       "      <td>4.600000e+06</td>\n",
       "    </tr>\n",
       "    <tr>\n",
       "      <th>75%</th>\n",
       "      <td>3202.000000</td>\n",
       "      <td>4.000000</td>\n",
       "      <td>7.500000e+06</td>\n",
       "      <td>2.150000e+07</td>\n",
       "      <td>16.000000</td>\n",
       "      <td>748.000000</td>\n",
       "      <td>1.130000e+07</td>\n",
       "      <td>7.600000e+06</td>\n",
       "      <td>2.170000e+07</td>\n",
       "      <td>7.100000e+06</td>\n",
       "    </tr>\n",
       "    <tr>\n",
       "      <th>max</th>\n",
       "      <td>4269.000000</td>\n",
       "      <td>5.000000</td>\n",
       "      <td>9.900000e+06</td>\n",
       "      <td>3.950000e+07</td>\n",
       "      <td>20.000000</td>\n",
       "      <td>900.000000</td>\n",
       "      <td>2.910000e+07</td>\n",
       "      <td>1.940000e+07</td>\n",
       "      <td>3.920000e+07</td>\n",
       "      <td>1.470000e+07</td>\n",
       "    </tr>\n",
       "  </tbody>\n",
       "</table>\n",
       "</div>"
      ],
      "text/plain": [
       "                ID  N_Dependientes  Ingresos_Anuales  Valor_Préstamo  \\\n",
       "count  4269.000000     4269.000000      4.269000e+03    4.269000e+03   \n",
       "mean   2135.000000        2.498712      5.059124e+06    1.513345e+07   \n",
       "std    1232.498479        1.695910      2.806840e+06    9.043363e+06   \n",
       "min       1.000000        0.000000      2.000000e+05    3.000000e+05   \n",
       "25%    1068.000000        1.000000      2.700000e+06    7.700000e+06   \n",
       "50%    2135.000000        3.000000      5.100000e+06    1.450000e+07   \n",
       "75%    3202.000000        4.000000      7.500000e+06    2.150000e+07   \n",
       "max    4269.000000        5.000000      9.900000e+06    3.950000e+07   \n",
       "\n",
       "       Plazo_Préstamo  Pontuación_Crédito  Valor_Activos_Residenciales  \\\n",
       "count     4269.000000         4269.000000                 4.269000e+03   \n",
       "mean        10.900445          599.936051                 7.472617e+06   \n",
       "std          5.709187          172.430401                 6.503637e+06   \n",
       "min          2.000000          300.000000                -1.000000e+05   \n",
       "25%          6.000000          453.000000                 2.200000e+06   \n",
       "50%         10.000000          600.000000                 5.600000e+06   \n",
       "75%         16.000000          748.000000                 1.130000e+07   \n",
       "max         20.000000          900.000000                 2.910000e+07   \n",
       "\n",
       "       Valor_Activos_Comerciales  Valor_Activos_Lujo  Valor_Activo_Bancário  \n",
       "count               4.269000e+03        4.269000e+03           4.269000e+03  \n",
       "mean                4.973155e+06        1.512631e+07           4.976692e+06  \n",
       "std                 4.388966e+06        9.103754e+06           3.250185e+06  \n",
       "min                 0.000000e+00        3.000000e+05           0.000000e+00  \n",
       "25%                 1.300000e+06        7.500000e+06           2.300000e+06  \n",
       "50%                 3.700000e+06        1.460000e+07           4.600000e+06  \n",
       "75%                 7.600000e+06        2.170000e+07           7.100000e+06  \n",
       "max                 1.940000e+07        3.920000e+07           1.470000e+07  "
      ]
     },
     "execution_count": 50,
     "metadata": {},
     "output_type": "execute_result"
    }
   ],
   "source": [
    "df.describe()"
   ]
  },
  {
   "cell_type": "code",
   "execution_count": 51,
   "id": "e45dd953-30a2-48ee-96f3-623560a1a8cb",
   "metadata": {},
   "outputs": [
    {
     "data": {
      "text/plain": [
       "N_Dependientes\n",
       "0    712\n",
       "1    697\n",
       "2    708\n",
       "3    727\n",
       "4    752\n",
       "5    673\n",
       "Name: count, dtype: int64"
      ]
     },
     "execution_count": 51,
     "metadata": {},
     "output_type": "execute_result"
    }
   ],
   "source": [
    "df[\"N_Dependientes\"].value_counts().sort_index()"
   ]
  },
  {
   "cell_type": "code",
   "execution_count": 52,
   "id": "007c25fe-b572-46ec-9f3b-be882ec5219c",
   "metadata": {},
   "outputs": [
    {
     "data": {
      "text/plain": [
       "Ingresos_Anuales\n",
       "7000000    62\n",
       "4100000    59\n",
       "7600000    57\n",
       "4700000    56\n",
       "5300000    55\n",
       "           ..\n",
       "3600000    33\n",
       "3400000    33\n",
       "9300000    33\n",
       "8500000    32\n",
       "6700000    30\n",
       "Name: count, Length: 98, dtype: int64"
      ]
     },
     "execution_count": 52,
     "metadata": {},
     "output_type": "execute_result"
    }
   ],
   "source": [
    "df[\"Ingresos_Anuales\"].value_counts()"
   ]
  },
  {
   "cell_type": "markdown",
   "id": "91f91a8d-ef5b-4dd4-96c5-8fb0d0f30fae",
   "metadata": {},
   "source": [
    "# Histogramas "
   ]
  },
  {
   "cell_type": "code",
   "execution_count": 58,
   "id": "b7ee42a8-ea9f-40b2-ba10-487a307f1e1a",
   "metadata": {},
   "outputs": [
    {
     "data": {
      "text/plain": [
       "<Axes: xlabel='N_Dependientes', ylabel='Count'>"
      ]
     },
     "execution_count": 58,
     "metadata": {},
     "output_type": "execute_result"
    },
    {
     "data": {
      "image/png": "[encoded data removed]",
      "text/plain": [
       "<Figure size 640x480 with 1 Axes>"
      ]
     },
     "metadata": {},
     "output_type": "display_data"
    }
   ],
   "source": [
    "sns.histplot(\n",
    "    data=df,\n",
    "    x='N_Dependientes',\n",
    "    hue='Status_Préstamo',    \n",
    "    multiple='stack',         \n",
    "    bins=30,\n",
    "    kde=False\n",
    ")"
   ]
  },
  {
   "cell_type": "code",
   "execution_count": 59,
   "id": "8c03ac7e-434b-4ecd-a0e4-dc7da4ec5daa",
   "metadata": {},
   "outputs": [
    {
     "data": {
      "text/plain": [
       "<Axes: xlabel='Ingresos_Anuales', ylabel='Count'>"
      ]
     },
     "execution_count": 59,
     "metadata": {},
     "output_type": "execute_result"
    },
    {
     "data": {
      "image/png": "[encoded data removed]",
      "text/plain": [
       "<Figure size 640x480 with 1 Axes>"
      ]
     },
     "metadata": {},
     "output_type": "display_data"
    }
   ],
   "source": [
    "sns.histplot(\n",
    "    data=df,\n",
    "    x='Ingresos_Anuales',\n",
    "    hue='Status_Préstamo',    \n",
    "    multiple='stack',         \n",
    "    bins=30,\n",
    "    kde=False\n",
    ")"
   ]
  },
  {
   "cell_type": "code",
   "execution_count": 60,
   "id": "e9845ce9-25ee-4a8d-a3e0-708b3135ed81",
   "metadata": {},
   "outputs": [
    {
     "data": {
      "text/plain": [
       "<Axes: xlabel='Valor_Préstamo', ylabel='Count'>"
      ]
     },
     "execution_count": 60,
     "metadata": {},
     "output_type": "execute_result"
    },
    {
     "data": {
      "image/png": "[encoded data removed]",
      "text/plain": [
       "<Figure size 640x480 with 1 Axes>"
      ]
     },
     "metadata": {},
     "output_type": "display_data"
    }
   ],
   "source": [
    "sns.histplot(\n",
    "    data=df,\n",
    "    x='Valor_Préstamo',\n",
    "    hue='Status_Préstamo',    \n",
    "    multiple='stack',         \n",
    "    bins=30,\n",
    "    kde=False\n",
    ")"
   ]
  },
  {
   "cell_type": "markdown",
   "id": "79dca76e-4cbc-4bc1-95f5-9df6dc0ef111",
   "metadata": {},
   "source": [
    "## Columna con mayor peso"
   ]
  },
  {
   "cell_type": "code",
   "execution_count": 61,
   "id": "960d3a2e-358d-472b-aaa3-1e086dfb5d69",
   "metadata": {},
   "outputs": [
    {
     "data": {
      "text/plain": [
       "<Axes: xlabel='Pontuación_Crédito', ylabel='Count'>"
      ]
     },
     "execution_count": 61,
     "metadata": {},
     "output_type": "execute_result"
    },
    {
     "data": {
      "image/png": "[encoded data removed]",
      "text/plain": [
       "<Figure size 640x480 with 1 Axes>"
      ]
     },
     "metadata": {},
     "output_type": "display_data"
    }
   ],
   "source": [
    "sns.histplot(\n",
    "    data=df,\n",
    "    x='Pontuación_Crédito',\n",
    "    hue='Status_Préstamo',    \n",
    "    multiple='stack',         \n",
    "    bins=30,\n",
    "    kde=False\n",
    ")"
   ]
  },
  {
   "cell_type": "code",
   "execution_count": 62,
   "id": "2fc01b26-2fbf-40b4-92e8-55b56ad13b2a",
   "metadata": {},
   "outputs": [
    {
     "data": {
      "text/plain": [
       "<Axes: xlabel='Valor_Activos_Residenciales', ylabel='Count'>"
      ]
     },
     "execution_count": 62,
     "metadata": {},
     "output_type": "execute_result"
    },
    {
     "data": {
      "image/png": "[encoded data removed]",
      "text/plain": [
       "<Figure size 640x480 with 1 Axes>"
      ]
     },
     "metadata": {},
     "output_type": "display_data"
    }
   ],
   "source": [
    "sns.histplot(\n",
    "    data=df,\n",
    "    x='Valor_Activos_Residenciales',\n",
    "    hue='Status_Préstamo',    \n",
    "    multiple='stack',         \n",
    "    bins=30,\n",
    "    kde=False\n",
    ")"
   ]
  },
  {
   "cell_type": "code",
   "execution_count": 63,
   "id": "a46e4bb1-0853-45f4-b75b-ba8cf9aafc87",
   "metadata": {},
   "outputs": [
    {
     "data": {
      "text/plain": [
       "<Axes: xlabel='Valor_Activos_Comerciales', ylabel='Count'>"
      ]
     },
     "execution_count": 63,
     "metadata": {},
     "output_type": "execute_result"
    },
    {
     "data": {
      "image/png": "[encoded data removed]",
      "text/plain": [
       "<Figure size 640x480 with 1 Axes>"
      ]
     },
     "metadata": {},
     "output_type": "display_data"
    }
   ],
   "source": [
    "sns.histplot(\n",
    "    data=df,\n",
    "    x='Valor_Activos_Comerciales',\n",
    "    hue='Status_Préstamo',    \n",
    "    multiple='stack',         \n",
    "    bins=30,\n",
    "    kde=False\n",
    ")"
   ]
  },
  {
   "cell_type": "code",
   "execution_count": 64,
   "id": "e85e9ea2-fe6d-4319-9a47-3ed43adbb6da",
   "metadata": {},
   "outputs": [
    {
     "data": {
      "text/plain": [
       "<Axes: xlabel='Valor_Activos_Lujo', ylabel='Count'>"
      ]
     },
     "execution_count": 64,
     "metadata": {},
     "output_type": "execute_result"
    },
    {
     "data": {
      "image/png": "[encoded data removed]",
      "text/plain": [
       "<Figure size 640x480 with 1 Axes>"
      ]
     },
     "metadata": {},
     "output_type": "display_data"
    }
   ],
   "source": [
    "sns.histplot(\n",
    "    data=df,\n",
    "    x='Valor_Activos_Lujo',\n",
    "    hue='Status_Préstamo',    \n",
    "    multiple='stack',         \n",
    "    bins=30,\n",
    "    kde=False\n",
    ")"
   ]
  },
  {
   "cell_type": "code",
   "execution_count": 65,
   "id": "334473e5-1667-40c6-a08d-1a37ce0fbe52",
   "metadata": {},
   "outputs": [
    {
     "data": {
      "text/plain": [
       "<Axes: xlabel='Valor_Activo_Bancário', ylabel='Count'>"
      ]
     },
     "execution_count": 65,
     "metadata": {},
     "output_type": "execute_result"
    },
    {
     "data": {
      "image/png": "[encoded data removed]",
      "text/plain": [
       "<Figure size 640x480 with 1 Axes>"
      ]
     },
     "metadata": {},
     "output_type": "display_data"
    }
   ],
   "source": [
    "sns.histplot(\n",
    "    data=df,\n",
    "    x='Valor_Activo_Bancário',\n",
    "    hue='Status_Préstamo',    \n",
    "    multiple='stack',         \n",
    "    bins=30,\n",
    "    kde=False\n",
    ")"
   ]
  },
  {
   "cell_type": "markdown",
   "id": "d61c49a6-b9c5-49a6-a685-066903277063",
   "metadata": {},
   "source": [
    "## Comprobrar valores negativos"
   ]
  },
  {
   "cell_type": "code",
   "execution_count": 66,
   "id": "0600a8b0-e2df-4022-a7d6-48827165e189",
   "metadata": {},
   "outputs": [
    {
     "name": "stdout",
     "output_type": "stream",
     "text": [
      "Empty DataFrame\n",
      "Columns: [ID, N_Dependientes, Educación, Trabajador_Autonomo, Ingresos_Anuales, Valor_Préstamo, Plazo_Préstamo, Pontuación_Crédito, Valor_Activos_Residenciales, Valor_Activos_Comerciales, Valor_Activos_Lujo, Valor_Activo_Bancário, Status_Préstamo]\n",
      "Index: []\n",
      "Empty DataFrame\n",
      "Columns: [ID, N_Dependientes, Educación, Trabajador_Autonomo, Ingresos_Anuales, Valor_Préstamo, Plazo_Préstamo, Pontuación_Crédito, Valor_Activos_Residenciales, Valor_Activos_Comerciales, Valor_Activos_Lujo, Valor_Activo_Bancário, Status_Préstamo]\n",
      "Index: []\n",
      "Empty DataFrame\n",
      "Columns: [ID, N_Dependientes, Educación, Trabajador_Autonomo, Ingresos_Anuales, Valor_Préstamo, Plazo_Préstamo, Pontuación_Crédito, Valor_Activos_Residenciales, Valor_Activos_Comerciales, Valor_Activos_Lujo, Valor_Activo_Bancário, Status_Préstamo]\n",
      "Index: []\n",
      "Empty DataFrame\n",
      "Columns: [ID, N_Dependientes, Educación, Trabajador_Autonomo, Ingresos_Anuales, Valor_Préstamo, Plazo_Préstamo, Pontuación_Crédito, Valor_Activos_Residenciales, Valor_Activos_Comerciales, Valor_Activos_Lujo, Valor_Activo_Bancário, Status_Préstamo]\n",
      "Index: []\n",
      "Empty DataFrame\n",
      "Columns: [ID, N_Dependientes, Educación, Trabajador_Autonomo, Ingresos_Anuales, Valor_Préstamo, Plazo_Préstamo, Pontuación_Crédito, Valor_Activos_Residenciales, Valor_Activos_Comerciales, Valor_Activos_Lujo, Valor_Activo_Bancário, Status_Préstamo]\n",
      "Index: []\n",
      "        ID  N_Dependientes     Educación Trabajador_Autonomo  \\\n",
      "59      60               4  Not Graduate                 Yes   \n",
      "196    197               4  Not Graduate                 Yes   \n",
      "559    560               2      Graduate                 Yes   \n",
      "702    703               4      Graduate                 Yes   \n",
      "737    738               2      Graduate                 Yes   \n",
      "784    785               0      Graduate                  No   \n",
      "904    905               2      Graduate                  No   \n",
      "1089  1090               3      Graduate                  No   \n",
      "1163  1164               2      Graduate                  No   \n",
      "1350  1351               5      Graduate                  No   \n",
      "1392  1393               0      Graduate                 Yes   \n",
      "1773  1774               2      Graduate                 Yes   \n",
      "1806  1807               1      Graduate                 Yes   \n",
      "1866  1867               5  Not Graduate                 Yes   \n",
      "1933  1934               5  Not Graduate                  No   \n",
      "1950  1951               0      Graduate                 Yes   \n",
      "2707  2708               2  Not Graduate                 Yes   \n",
      "3019  3020               4  Not Graduate                  No   \n",
      "3164  3165               4  Not Graduate                  No   \n",
      "3180  3181               4      Graduate                  No   \n",
      "3431  3432               4      Graduate                  No   \n",
      "3730  3731               5      Graduate                  No   \n",
      "3747  3748               4  Not Graduate                  No   \n",
      "3962  3963               3      Graduate                 Yes   \n",
      "4076  4077               2      Graduate                  No   \n",
      "4130  4131               0  Not Graduate                 Yes   \n",
      "4206  4207               0  Not Graduate                 Yes   \n",
      "4243  4244               0  Not Graduate                 Yes   \n",
      "\n",
      "      Ingresos_Anuales  Valor_Préstamo  Plazo_Préstamo  Pontuación_Crédito  \\\n",
      "59             5500000        18200000              16                 797   \n",
      "196             400000         1500000               2                 669   \n",
      "559             200000          500000               6                 885   \n",
      "702            6300000        23900000               6                 899   \n",
      "737             900000         2500000              16                 458   \n",
      "784            5000000        14400000               2                 761   \n",
      "904            4100000        14900000              12                 571   \n",
      "1089           5100000        11000000               6                 336   \n",
      "1163           4500000         9100000              18                 593   \n",
      "1350           4000000        13700000               6                 496   \n",
      "1392            400000          900000               2                 855   \n",
      "1773           5500000        12400000              14                 842   \n",
      "1806           6200000        16200000               4                 888   \n",
      "1866            200000          300000               8                 412   \n",
      "1933            500000         1500000               6                 433   \n",
      "1950            200000          700000              10                 587   \n",
      "2707           7800000        29600000              14                 568   \n",
      "3019            300000          600000               6                 365   \n",
      "3164           2400000         8000000              18                 393   \n",
      "3180           3200000        12200000              14                 683   \n",
      "3431            400000         1400000              18                 827   \n",
      "3730            200000          700000              18                 707   \n",
      "3747           2300000         5500000               6                 343   \n",
      "3962            500000         1900000              18                 618   \n",
      "4076           1500000         4900000              16                 387   \n",
      "4130           6200000        14900000               8                 855   \n",
      "4206           2100000         8300000              20                 765   \n",
      "4243           1600000         3400000               8                 867   \n",
      "\n",
      "      Valor_Activos_Residenciales  Valor_Activos_Comerciales  \\\n",
      "59                        -100000                    4900000   \n",
      "196                       -100000                     600000   \n",
      "559                       -100000                          0   \n",
      "702                       -100000                   11400000   \n",
      "737                       -100000                     100000   \n",
      "784                       -100000                    7300000   \n",
      "904                       -100000                    5200000   \n",
      "1089                      -100000                    5800000   \n",
      "1163                      -100000                     600000   \n",
      "1350                      -100000                    1400000   \n",
      "1392                      -100000                     500000   \n",
      "1773                      -100000                    6800000   \n",
      "1806                      -100000                   12000000   \n",
      "1866                      -100000                     100000   \n",
      "1933                      -100000                     700000   \n",
      "1950                      -100000                     100000   \n",
      "2707                      -100000                    8600000   \n",
      "3019                      -100000                     400000   \n",
      "3164                      -100000                     200000   \n",
      "3180                      -100000                    1100000   \n",
      "3431                      -100000                          0   \n",
      "3730                      -100000                     100000   \n",
      "3747                      -100000                    4100000   \n",
      "3962                      -100000                     600000   \n",
      "4076                      -100000                    2400000   \n",
      "4130                      -100000                    7200000   \n",
      "4206                      -100000                    3600000   \n",
      "4243                      -100000                    2700000   \n",
      "\n",
      "      Valor_Activos_Lujo  Valor_Activo_Bancário Status_Préstamo  \n",
      "59              18600000                4800000        Approved  \n",
      "196               900000                 500000        Approved  \n",
      "559               300000                 200000        Rejected  \n",
      "702             20600000                6700000        Approved  \n",
      "737              3200000                1100000        Rejected  \n",
      "784             12600000                4500000        Approved  \n",
      "904             13000000                3400000        Approved  \n",
      "1089            11600000                7500000        Rejected  \n",
      "1163            12400000                2500000        Approved  \n",
      "1350            15800000                3700000        Rejected  \n",
      "1392             1300000                 400000        Approved  \n",
      "1773            15800000                5800000        Approved  \n",
      "1806            24300000                4000000        Approved  \n",
      "1866              500000                 100000        Rejected  \n",
      "1933             1900000                 700000        Rejected  \n",
      "1950              500000                 100000        Rejected  \n",
      "2707            27000000                7200000        Approved  \n",
      "3019              600000                 200000        Rejected  \n",
      "3164             7600000                3000000        Rejected  \n",
      "3180             7500000                2900000        Rejected  \n",
      "3431              900000                 600000        Approved  \n",
      "3730              500000                 200000        Approved  \n",
      "3747             4800000                3200000        Rejected  \n",
      "3962             1000000                 400000        Approved  \n",
      "4076             3700000                1300000        Rejected  \n",
      "4130            14200000                8200000        Approved  \n",
      "4206             7700000                2100000        Approved  \n",
      "4243             4300000                1300000        Approved  \n",
      "Empty DataFrame\n",
      "Columns: [ID, N_Dependientes, Educación, Trabajador_Autonomo, Ingresos_Anuales, Valor_Préstamo, Plazo_Préstamo, Pontuación_Crédito, Valor_Activos_Residenciales, Valor_Activos_Comerciales, Valor_Activos_Lujo, Valor_Activo_Bancário, Status_Préstamo]\n",
      "Index: []\n",
      "Empty DataFrame\n",
      "Columns: [ID, N_Dependientes, Educación, Trabajador_Autonomo, Ingresos_Anuales, Valor_Préstamo, Plazo_Préstamo, Pontuación_Crédito, Valor_Activos_Residenciales, Valor_Activos_Comerciales, Valor_Activos_Lujo, Valor_Activo_Bancário, Status_Préstamo]\n",
      "Index: []\n",
      "Empty DataFrame\n",
      "Columns: [ID, N_Dependientes, Educación, Trabajador_Autonomo, Ingresos_Anuales, Valor_Préstamo, Plazo_Préstamo, Pontuación_Crédito, Valor_Activos_Residenciales, Valor_Activos_Comerciales, Valor_Activos_Lujo, Valor_Activo_Bancário, Status_Préstamo]\n",
      "Index: []\n"
     ]
    }
   ],
   "source": [
    "print(df.loc[df[\"N_Dependientes\"] < 0 ])\n",
    "print(df.loc[df[\"Ingresos_Anuales\"] < 0 ])\n",
    "print(df.loc[df[\"Valor_Préstamo\"] < 0 ])\n",
    "print(df.loc[df[\"Plazo_Préstamo\"] < 0 ])\n",
    "print(df.loc[df[\"Pontuación_Crédito\"] < 0 ])\n",
    "print(df.loc[df[\"Valor_Activos_Residenciales\"] < 0 ])   #valores negativos\n",
    "print(df.loc[df[\"Valor_Activos_Comerciales\"] < 0 ])\n",
    "print(df.loc[df[\"Valor_Activos_Lujo\"] < 0 ])\n",
    "print(df.loc[df[\"Valor_Activo_Bancário\"] < 0 ])\n"
   ]
  },
  {
   "cell_type": "markdown",
   "id": "a2c17fba-47cc-4bb8-b80e-3fe6f5a632ea",
   "metadata": {},
   "source": [
    "## Quitar lineas con valores negativos "
   ]
  },
  {
   "cell_type": "code",
   "execution_count": 67,
   "id": "fd04b8f0-6b84-48a4-9541-49db7e35b38b",
   "metadata": {},
   "outputs": [
    {
     "data": {
      "text/plain": [
       "1806     -100000\n",
       "559      -100000\n",
       "1163     -100000\n",
       "3019     -100000\n",
       "4130     -100000\n",
       "          ...   \n",
       "1965    28400000\n",
       "2318    28500000\n",
       "1591    28500000\n",
       "905     28700000\n",
       "3119    29100000\n",
       "Name: Valor_Activos_Residenciales, Length: 4269, dtype: int64"
      ]
     },
     "execution_count": 67,
     "metadata": {},
     "output_type": "execute_result"
    }
   ],
   "source": [
    "df[\"Valor_Activos_Residenciales\"].sort_values()"
   ]
  },
  {
   "cell_type": "markdown",
   "id": "14e220a2-4a3c-404c-9b2c-5aa751560ed8",
   "metadata": {},
   "source": [
    "### 28 valores negativos"
   ]
  },
  {
   "cell_type": "code",
   "execution_count": 68,
   "id": "e976c1c6-2987-451d-af03-9d1a05f3964b",
   "metadata": {},
   "outputs": [
    {
     "name": "stdout",
     "output_type": "stream",
     "text": [
      "28\n"
     ]
    }
   ],
   "source": [
    "#Cantidad de valores menor que 0\n",
    "print(df.loc[df[\"Valor_Activos_Residenciales\"] < 0 ].any(axis=1).sum())"
   ]
  },
  {
   "cell_type": "code",
   "execution_count": 69,
   "id": "f7d65ae1-2eaa-4038-894c-a7c8b8dced39",
   "metadata": {},
   "outputs": [],
   "source": [
    "#función drop para quitar las lineas\n",
    "df = df.drop(df[df[\"Valor_Activos_Residenciales\"] < 0].index)"
   ]
  },
  {
   "cell_type": "markdown",
   "id": "a2719b71-83ee-46e9-a457-e48618395408",
   "metadata": {},
   "source": [
    "#### Quitando las 28 lineas"
   ]
  },
  {
   "cell_type": "code",
   "execution_count": 70,
   "id": "e9cfdce6-043f-420d-be77-9d7c37001da8",
   "metadata": {},
   "outputs": [
    {
     "name": "stdout",
     "output_type": "stream",
     "text": [
      "0\n"
     ]
    }
   ],
   "source": [
    "#comprobar que las lines fueran quitadas\n",
    "print(df.loc[df[\"Valor_Activos_Residenciales\"] < 0].any(axis=1).sum())"
   ]
  },
  {
   "cell_type": "markdown",
   "id": "2e34c561-29d0-4aa2-894f-4332bd816e9c",
   "metadata": {},
   "source": [
    "### En Valor_Activos_Residenciales, vamos cambiar el valor 0 por la mediana de la columna"
   ]
  },
  {
   "cell_type": "code",
   "execution_count": 71,
   "id": "4c7550da-0e3e-4eee-9ae4-2da23f2dbbdb",
   "metadata": {},
   "outputs": [
    {
     "name": "stdout",
     "output_type": "stream",
     "text": [
      "45\n"
     ]
    }
   ],
   "source": [
    "#Cantidad de valores igual que 0\n",
    "print(df.loc[df[\"Valor_Activos_Residenciales\"] == 0 ].any(axis=1).sum())"
   ]
  },
  {
   "cell_type": "code",
   "execution_count": 72,
   "id": "43357401-0e3e-4717-933f-8ce444397d31",
   "metadata": {},
   "outputs": [],
   "source": [
    "#obtener la mediana\n",
    "median = df[\"Valor_Activos_Residenciales\"].median()"
   ]
  },
  {
   "cell_type": "code",
   "execution_count": 73,
   "id": "c13d80a1-f417-4ace-9698-0f47e2da7379",
   "metadata": {},
   "outputs": [],
   "source": [
    "df.loc[df[\"Valor_Activos_Residenciales\"] == 0, \"Valor_Activos_Residenciales\"] = median"
   ]
  },
  {
   "cell_type": "code",
   "execution_count": 74,
   "id": "ad3822a6-76c3-4c5f-a185-59583e32a0ed",
   "metadata": {},
   "outputs": [
    {
     "name": "stdout",
     "output_type": "stream",
     "text": [
      "0\n"
     ]
    }
   ],
   "source": [
    "#Cantidad de valores igual que 0\n",
    "print(df.loc[df[\"Valor_Activos_Residenciales\"] == 0].any(axis=1).sum())"
   ]
  },
  {
   "cell_type": "code",
   "execution_count": null,
   "id": "5ab72d9f-9327-464e-8cd8-40de4685f1a9",
   "metadata": {},
   "outputs": [],
   "source": []
  },
  {
   "cell_type": "markdown",
   "id": "5656fe5e-42a5-49a6-8fa9-c5bb83df8e36",
   "metadata": {},
   "source": [
    "# Dividir los datos en predictores y clases\n",
    "### x_prestamo\n",
    "### y_prestamo"
   ]
  },
  {
   "cell_type": "code",
   "execution_count": 75,
   "id": "574fd9be-63bd-49ef-bdd2-f17e8e43d207",
   "metadata": {},
   "outputs": [],
   "source": [
    "# Crear dataset predictores\n",
    "x_prestamo = df.iloc[:,1:12]"
   ]
  },
  {
   "cell_type": "markdown",
   "id": "883d7685-5f79-4129-ab08-317eaeea4ffb",
   "metadata": {},
   "source": [
    "#### convertir a numpy"
   ]
  },
  {
   "cell_type": "code",
   "execution_count": 76,
   "id": "974cf5cc-7670-44ee-be46-39f84a812734",
   "metadata": {},
   "outputs": [
    {
     "name": "stdout",
     "output_type": "stream",
     "text": [
      "[[2 'Graduate' 'No' ... 17600000 22700000 8000000]\n",
      " [0 'Not Graduate' 'Yes' ... 2200000 8800000 3300000]\n",
      " [3 'Graduate' 'No' ... 4500000 33300000 12800000]\n",
      " ...\n",
      " [2 'Not Graduate' 'No' ... 12400000 18100000 7300000]\n",
      " [1 'Not Graduate' 'No' ... 700000 14100000 5800000]\n",
      " [1 'Graduate' 'No' ... 11800000 35700000 12000000]]\n"
     ]
    }
   ],
   "source": [
    "x_prestamo = x_prestamo.values\n",
    "print(x_prestamo)"
   ]
  },
  {
   "cell_type": "code",
   "execution_count": 77,
   "id": "eed76e12-13e3-4180-8c19-de007a30e713",
   "metadata": {},
   "outputs": [],
   "source": [
    "#Crear dataset clase\n",
    "y_prestamo = df.iloc[:,-1]"
   ]
  },
  {
   "cell_type": "markdown",
   "id": "e4915fd3-4248-4b7d-a72c-c2844a736523",
   "metadata": {},
   "source": [
    "#### convertir a numpy"
   ]
  },
  {
   "cell_type": "code",
   "execution_count": 78,
   "id": "87e8dc8e-f40f-4992-861f-2e0dc0f15de0",
   "metadata": {},
   "outputs": [
    {
     "data": {
      "text/plain": [
       "array(['Approved', 'Rejected', 'Rejected', ..., 'Rejected', 'Approved',\n",
       "       'Approved'], shape=(4241,), dtype=object)"
      ]
     },
     "execution_count": 78,
     "metadata": {},
     "output_type": "execute_result"
    }
   ],
   "source": [
    "y_prestamo = y_prestamo.values\n",
    "y_prestamo"
   ]
  },
  {
   "cell_type": "code",
   "execution_count": 79,
   "id": "183dde9b-594a-46dc-b739-9f40cf1586be",
   "metadata": {},
   "outputs": [
    {
     "data": {
      "text/plain": [
       "(4241, 11)"
      ]
     },
     "execution_count": 79,
     "metadata": {},
     "output_type": "execute_result"
    }
   ],
   "source": [
    "x_prestamo.shape"
   ]
  },
  {
   "cell_type": "markdown",
   "id": "641a8e61-4d51-46fe-964e-978ce1d011ce",
   "metadata": {},
   "source": [
    "## One Hot Encoder\n",
    "### Cada categoría se trata de forma independiente"
   ]
  },
  {
   "cell_type": "code",
   "execution_count": 80,
   "id": "8ec11443-82bc-42d6-aa9a-83c161f8ee87",
   "metadata": {},
   "outputs": [],
   "source": [
    "from sklearn.preprocessing import OneHotEncoder\n",
    "from sklearn.compose import ColumnTransformer"
   ]
  },
  {
   "cell_type": "code",
   "execution_count": 81,
   "id": "ceb54c60-a5a2-4f09-b837-88f093dea982",
   "metadata": {},
   "outputs": [],
   "source": [
    "one_hot_encoder_prestamo = ColumnTransformer(transformers=[(\"OneHot\",OneHotEncoder(),[1,2])],remainder=\"passthrough\")"
   ]
  },
  {
   "cell_type": "code",
   "execution_count": 82,
   "id": "30fcd427-0731-4587-b97b-7c465a5e0473",
   "metadata": {},
   "outputs": [],
   "source": [
    "x_prestamo = one_hot_encoder_prestamo.fit_transform(x_prestamo)"
   ]
  },
  {
   "cell_type": "code",
   "execution_count": 83,
   "id": "be0e2df6-5888-4cdb-a7c1-279c1a71b38d",
   "metadata": {},
   "outputs": [
    {
     "data": {
      "text/plain": [
       "(4241, 13)"
      ]
     },
     "execution_count": 83,
     "metadata": {},
     "output_type": "execute_result"
    }
   ],
   "source": [
    "x_prestamo.shape"
   ]
  },
  {
   "cell_type": "code",
   "execution_count": 84,
   "id": "28ea6287-d1c7-43bc-9d51-5d4a9b00d84f",
   "metadata": {},
   "outputs": [
    {
     "data": {
      "text/plain": [
       "array([1.0, 0.0, 1.0, 0.0, 3, 8200000, 30700000, 8, 467, 18200000,\n",
       "       3300000, 23300000, 7900000], dtype=object)"
      ]
     },
     "execution_count": 84,
     "metadata": {},
     "output_type": "execute_result"
    }
   ],
   "source": [
    "x_prestamo[3]"
   ]
  },
  {
   "cell_type": "markdown",
   "id": "029f1501-7722-4459-904b-d901ef002a41",
   "metadata": {},
   "source": [
    "## Salvar Modelo One Hot Encoder"
   ]
  },
  {
   "cell_type": "code",
   "execution_count": 85,
   "id": "5b2bcb4b-23c4-43d4-b923-ca8c0e88d1d3",
   "metadata": {},
   "outputs": [],
   "source": [
    "with open(\"one_hot_encoder.pkl\", \"wb\") as f:\n",
    "    pickle.dump(one_hot_encoder_prestamo, f)"
   ]
  },
  {
   "cell_type": "markdown",
   "id": "644effcc-3fc4-4fc9-b5ab-b18995ed8a9a",
   "metadata": {},
   "source": [
    "# Estandarización de conjuntos de datos "
   ]
  },
  {
   "cell_type": "code",
   "execution_count": 86,
   "id": "6cb50aee-e492-40bb-b4dd-35ea961d23ff",
   "metadata": {},
   "outputs": [],
   "source": [
    "from sklearn.preprocessing import StandardScaler\n"
   ]
  },
  {
   "cell_type": "code",
   "execution_count": 87,
   "id": "441c4f5c-7649-4f18-90a7-2ffcad30757d",
   "metadata": {},
   "outputs": [],
   "source": [
    "scaler_prestamo = StandardScaler()\n",
    "x_prestamo = scaler_prestamo.fit_transform(x_prestamo)"
   ]
  },
  {
   "cell_type": "code",
   "execution_count": 88,
   "id": "00668507-9278-4981-a354-9ed4dae1a8ec",
   "metadata": {},
   "outputs": [
    {
     "data": {
      "text/plain": [
       "array([ 0.99693937, -0.99693937,  1.00686155, -1.00686155, -0.2937337 ,\n",
       "        1.61470382,  1.62968072,  0.19232546,  1.03516445, -0.80344422,\n",
       "        2.87290346,  0.82791784,  0.9259495 ])"
      ]
     },
     "execution_count": 88,
     "metadata": {},
     "output_type": "execute_result"
    }
   ],
   "source": [
    "x_prestamo[0]"
   ]
  },
  {
   "cell_type": "markdown",
   "id": "69df91e5-5c24-471a-9e1c-0aed3add9826",
   "metadata": {},
   "source": [
    "## Salvar Modelo Scaler"
   ]
  },
  {
   "cell_type": "code",
   "execution_count": 89,
   "id": "6fbd518b-ea75-465a-b41a-966dbd5ca1aa",
   "metadata": {},
   "outputs": [],
   "source": [
    "with open(\"scaler.pkl\", \"wb\") as f:\n",
    "    pickle.dump(scaler_prestamo, f)"
   ]
  },
  {
   "cell_type": "markdown",
   "id": "9251138d-6958-439b-939c-946c855513ef",
   "metadata": {},
   "source": [
    "# modelo de entrenamiento y prueba divididos\n",
    "#### split train test"
   ]
  },
  {
   "cell_type": "code",
   "execution_count": 90,
   "id": "c1ec1f88-e3bd-48c0-9dcf-c0a96d6766bb",
   "metadata": {},
   "outputs": [],
   "source": [
    "from sklearn.model_selection import train_test_split"
   ]
  },
  {
   "cell_type": "code",
   "execution_count": 91,
   "id": "b261ae85-29d6-4a3a-b56a-588b14b50065",
   "metadata": {},
   "outputs": [],
   "source": [
    "X_prestamo_entrenamiento, X_prestamo_prueba, y_prestamo_entrenamiento, y_prestamo_prueba = train_test_split(x_prestamo, y_prestamo,\n",
    "                                                                                                            test_size=0.30,random_state=0)"
   ]
  },
  {
   "cell_type": "code",
   "execution_count": 92,
   "id": "7b6050df-aa94-4764-9286-0cbe5e6982d7",
   "metadata": {},
   "outputs": [
    {
     "data": {
      "text/plain": [
       "(2968, 13)"
      ]
     },
     "execution_count": 92,
     "metadata": {},
     "output_type": "execute_result"
    }
   ],
   "source": [
    "X_prestamo_entrenamiento.shape"
   ]
  },
  {
   "cell_type": "code",
   "execution_count": 93,
   "id": "53438b89-f34e-4f78-a3a5-fadf15d2920a",
   "metadata": {},
   "outputs": [
    {
     "data": {
      "text/plain": [
       "array([ 0.99693937, -0.99693937, -0.99318521,  0.99318521,  1.4757615 ,\n",
       "       -0.20488231, -0.39612896,  1.59378982, -1.70492755, -0.43141426,\n",
       "       -0.70260336, -0.35972482,  0.21806343])"
      ]
     },
     "execution_count": 93,
     "metadata": {},
     "output_type": "execute_result"
    }
   ],
   "source": [
    "X_prestamo_prueba[-1]"
   ]
  },
  {
   "cell_type": "code",
   "execution_count": 94,
   "id": "26780358-e7b8-4ae7-8f76-65c775f100f4",
   "metadata": {},
   "outputs": [
    {
     "data": {
      "text/plain": [
       "(2968,)"
      ]
     },
     "execution_count": 94,
     "metadata": {},
     "output_type": "execute_result"
    }
   ],
   "source": [
    "y_prestamo_entrenamiento.shape"
   ]
  },
  {
   "cell_type": "code",
   "execution_count": 95,
   "id": "d3399a04-a527-4655-a3b5-456001feb559",
   "metadata": {},
   "outputs": [
    {
     "data": {
      "text/plain": [
       "(1273,)"
      ]
     },
     "execution_count": 95,
     "metadata": {},
     "output_type": "execute_result"
    }
   ],
   "source": [
    "y_prestamo_prueba.shape"
   ]
  },
  {
   "cell_type": "markdown",
   "id": "4f2175c2-ba01-4d87-bd68-2d63d2caf9cc",
   "metadata": {},
   "source": [
    "# Salvar las Variables"
   ]
  },
  {
   "cell_type": "code",
   "execution_count": 96,
   "id": "51b54e39-edeb-4fb0-9f2f-bf5868970ea3",
   "metadata": {},
   "outputs": [],
   "source": [
    "import pickle"
   ]
  },
  {
   "cell_type": "code",
   "execution_count": 97,
   "id": "7eb087b1-4b0d-41ed-bfa0-ab6c0d3418f8",
   "metadata": {},
   "outputs": [],
   "source": [
    "with open(\"prestamo.pkl\", mode=\"wb\") as f:\n",
    "    pickle.dump([X_prestamo_entrenamiento,y_prestamo_entrenamiento,X_prestamo_prueba,y_prestamo_prueba],f)"
   ]
  },
  {
   "cell_type": "code",
   "execution_count": null,
   "id": "98d672b1-c5c4-4c82-90d7-442b2c32b310",
   "metadata": {},
   "outputs": [],
   "source": []
  }
 ],
 "metadata": {
  "kernelspec": {
   "display_name": "Python proyecto_01",
   "language": "python",
   "name": "nome_do_ambiente"
  },
  "language_info": {
   "codemirror_mode": {
    "name": "ipython",
    "version": 3
   },
   "file_extension": ".py",
   "mimetype": "text/x-python",
   "name": "python",
   "nbconvert_exporter": "python",
   "pygments_lexer": "ipython3",
   "version": "3.12.9"
  }
 },
 "nbformat": 4,
 "nbformat_minor": 5
}
