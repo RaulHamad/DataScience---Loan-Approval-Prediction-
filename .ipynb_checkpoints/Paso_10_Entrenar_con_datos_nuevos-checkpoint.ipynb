{
 "cells": [
  {
   "cell_type": "markdown",
   "id": "9bbc0ae9-1b7a-498b-ad69-b06f65d50451",
   "metadata": {},
   "source": [
    "## Datos Nuevos para teste"
   ]
  },
  {
   "cell_type": "code",
   "execution_count": 15,
   "id": "ce1ca629-6240-4d11-ae28-56d113c99961",
   "metadata": {},
   "outputs": [
    {
     "data": {
      "text/plain": [
       "[2,\n",
       " 'Graduate',\n",
       " 'No',\n",
       " 9600000,\n",
       " 29900000,\n",
       " 12,\n",
       " 700,\n",
       " 2400000,\n",
       " 17600000,\n",
       " 22700000,\n",
       " 8000000]"
      ]
     },
     "execution_count": 15,
     "metadata": {},
     "output_type": "execute_result"
    }
   ],
   "source": [
    "import pandas as pd\n",
    "import numpy as np\n",
    "import pickle\n",
    "client_approved = [2,\"Graduate\",\"No\",9600000,29900000,12,700,2400000,17600000,22700000,8000000]\n",
    "client_approved"
   ]
  },
  {
   "cell_type": "code",
   "execution_count": 16,
   "id": "e0b17bdd-d7f8-46d9-a746-c61403cba8d8",
   "metadata": {},
   "outputs": [],
   "source": [
    "client_rejected = [5,\"Graduate\",\"Yes\",1000000,2300000,12,317,2800000,500000,3300000,800000]\n",
    "client_3 = [0,\"Not Graduate\",\"Yes\",3300000,11300000,20,559,4200000,2900000,11000000,1900000]"
   ]
  },
  {
   "cell_type": "code",
   "execution_count": 17,
   "id": "3e9a0143-6ed5-4283-abd7-f5bb01535efa",
   "metadata": {},
   "outputs": [],
   "source": [
    "columns = ['N_Dependientes','Educación','Trabajador_Autonomo','Ingresos_Anuales','Valor_Préstamo',\n",
    "           'Plazo_Préstamo','Pontuación_Crédito','Valor_Activos_Residenciales','Valor_Activos_Comerciales',\n",
    "           'Valor_Activos_Lujo','Valor_Activo_Bancário']\n",
    "\n",
    "df_approved = pd.DataFrame([client_approved,client_rejected,client_3], columns=columns)"
   ]
  },
  {
   "cell_type": "code",
   "execution_count": 18,
   "id": "3b96504e-0cbe-43bd-9a95-8bc270d52dd7",
   "metadata": {},
   "outputs": [
    {
     "data": {
      "text/html": [
       "<div>\n",
       "<style scoped>\n",
       "    .dataframe tbody tr th:only-of-type {\n",
       "        vertical-align: middle;\n",
       "    }\n",
       "\n",
       "    .dataframe tbody tr th {\n",
       "        vertical-align: top;\n",
       "    }\n",
       "\n",
       "    .dataframe thead th {\n",
       "        text-align: right;\n",
       "    }\n",
       "</style>\n",
       "<table border=\"1\" class=\"dataframe\">\n",
       "  <thead>\n",
       "    <tr style=\"text-align: right;\">\n",
       "      <th></th>\n",
       "      <th>N_Dependientes</th>\n",
       "      <th>Educación</th>\n",
       "      <th>Trabajador_Autonomo</th>\n",
       "      <th>Ingresos_Anuales</th>\n",
       "      <th>Valor_Préstamo</th>\n",
       "      <th>Plazo_Préstamo</th>\n",
       "      <th>Pontuación_Crédito</th>\n",
       "      <th>Valor_Activos_Residenciales</th>\n",
       "      <th>Valor_Activos_Comerciales</th>\n",
       "      <th>Valor_Activos_Lujo</th>\n",
       "      <th>Valor_Activo_Bancário</th>\n",
       "    </tr>\n",
       "  </thead>\n",
       "  <tbody>\n",
       "    <tr>\n",
       "      <th>0</th>\n",
       "      <td>2</td>\n",
       "      <td>Graduate</td>\n",
       "      <td>No</td>\n",
       "      <td>9600000</td>\n",
       "      <td>29900000</td>\n",
       "      <td>12</td>\n",
       "      <td>700</td>\n",
       "      <td>2400000</td>\n",
       "      <td>17600000</td>\n",
       "      <td>22700000</td>\n",
       "      <td>8000000</td>\n",
       "    </tr>\n",
       "    <tr>\n",
       "      <th>1</th>\n",
       "      <td>5</td>\n",
       "      <td>Graduate</td>\n",
       "      <td>Yes</td>\n",
       "      <td>1000000</td>\n",
       "      <td>2300000</td>\n",
       "      <td>12</td>\n",
       "      <td>317</td>\n",
       "      <td>2800000</td>\n",
       "      <td>500000</td>\n",
       "      <td>3300000</td>\n",
       "      <td>800000</td>\n",
       "    </tr>\n",
       "    <tr>\n",
       "      <th>2</th>\n",
       "      <td>0</td>\n",
       "      <td>Not Graduate</td>\n",
       "      <td>Yes</td>\n",
       "      <td>3300000</td>\n",
       "      <td>11300000</td>\n",
       "      <td>20</td>\n",
       "      <td>559</td>\n",
       "      <td>4200000</td>\n",
       "      <td>2900000</td>\n",
       "      <td>11000000</td>\n",
       "      <td>1900000</td>\n",
       "    </tr>\n",
       "  </tbody>\n",
       "</table>\n",
       "</div>"
      ],
      "text/plain": [
       "   N_Dependientes     Educación Trabajador_Autonomo  Ingresos_Anuales  \\\n",
       "0               2      Graduate                  No           9600000   \n",
       "1               5      Graduate                 Yes           1000000   \n",
       "2               0  Not Graduate                 Yes           3300000   \n",
       "\n",
       "   Valor_Préstamo  Plazo_Préstamo  Pontuación_Crédito  \\\n",
       "0        29900000              12                 700   \n",
       "1         2300000              12                 317   \n",
       "2        11300000              20                 559   \n",
       "\n",
       "   Valor_Activos_Residenciales  Valor_Activos_Comerciales  Valor_Activos_Lujo  \\\n",
       "0                      2400000                   17600000            22700000   \n",
       "1                      2800000                     500000             3300000   \n",
       "2                      4200000                    2900000            11000000   \n",
       "\n",
       "   Valor_Activo_Bancário  \n",
       "0                8000000  \n",
       "1                 800000  \n",
       "2                1900000  "
      ]
     },
     "execution_count": 18,
     "metadata": {},
     "output_type": "execute_result"
    }
   ],
   "source": [
    "df_approved"
   ]
  },
  {
   "cell_type": "code",
   "execution_count": 19,
   "id": "5625fdd8-266a-4d2e-a8ab-808380215d7e",
   "metadata": {},
   "outputs": [],
   "source": [
    "df_approved = df_approved.values"
   ]
  },
  {
   "cell_type": "code",
   "execution_count": 20,
   "id": "23e38546-9b5a-45d8-be61-7fb63a3adb74",
   "metadata": {},
   "outputs": [
    {
     "data": {
      "text/plain": [
       "array([[2, 'Graduate', 'No', 9600000, 29900000, 12, 700, 2400000,\n",
       "        17600000, 22700000, 8000000],\n",
       "       [5, 'Graduate', 'Yes', 1000000, 2300000, 12, 317, 2800000, 500000,\n",
       "        3300000, 800000],\n",
       "       [0, 'Not Graduate', 'Yes', 3300000, 11300000, 20, 559, 4200000,\n",
       "        2900000, 11000000, 1900000]], dtype=object)"
      ]
     },
     "execution_count": 20,
     "metadata": {},
     "output_type": "execute_result"
    }
   ],
   "source": [
    "df_approved"
   ]
  },
  {
   "cell_type": "markdown",
   "id": "939d5307-c077-414e-82df-18ba81f9c946",
   "metadata": {},
   "source": [
    "## One Hot Encoder"
   ]
  },
  {
   "cell_type": "code",
   "execution_count": 21,
   "id": "1d6aeb05-e477-4491-88cb-af8471480178",
   "metadata": {},
   "outputs": [],
   "source": [
    "from sklearn.preprocessing import OneHotEncoder\n",
    "from sklearn.compose import ColumnTransformer"
   ]
  },
  {
   "cell_type": "code",
   "execution_count": 22,
   "id": "69e3d3f0-e8c6-4eaa-a0a7-6b7c5955d103",
   "metadata": {},
   "outputs": [],
   "source": [
    "with open(\"one_hot_encoder.pkl\", \"rb\") as f:\n",
    "    one_hot_encoder_prestamo = pickle.load(f)"
   ]
  },
  {
   "cell_type": "code",
   "execution_count": 23,
   "id": "f17a23fe-37de-48e2-9c33-a4733bd09436",
   "metadata": {},
   "outputs": [],
   "source": [
    "df_approved = one_hot_encoder_prestamo.transform(df_approved)"
   ]
  },
  {
   "cell_type": "code",
   "execution_count": 24,
   "id": "0f2e1bc5-901e-4681-9a1d-fba817dbf615",
   "metadata": {},
   "outputs": [
    {
     "data": {
      "text/plain": [
       "array([[1.0, 0.0, 1.0, 0.0, 2, 9600000, 29900000, 12, 700, 2400000,\n",
       "        17600000, 22700000, 8000000],\n",
       "       [1.0, 0.0, 0.0, 1.0, 5, 1000000, 2300000, 12, 317, 2800000,\n",
       "        500000, 3300000, 800000],\n",
       "       [0.0, 1.0, 0.0, 1.0, 0, 3300000, 11300000, 20, 559, 4200000,\n",
       "        2900000, 11000000, 1900000]], dtype=object)"
      ]
     },
     "execution_count": 24,
     "metadata": {},
     "output_type": "execute_result"
    }
   ],
   "source": [
    "df_approved"
   ]
  },
  {
   "cell_type": "markdown",
   "id": "e88b53ca-8773-41d7-ac1e-06c26697f143",
   "metadata": {},
   "source": [
    "## Escalador estándar"
   ]
  },
  {
   "cell_type": "code",
   "execution_count": 25,
   "id": "f439caff-b98b-41fa-a7c8-5e0abd352bc1",
   "metadata": {},
   "outputs": [],
   "source": [
    "from sklearn.preprocessing import StandardScaler"
   ]
  },
  {
   "cell_type": "code",
   "execution_count": 26,
   "id": "6c9ae049-f607-4e36-901c-1c52e831655e",
   "metadata": {},
   "outputs": [],
   "source": [
    "with open(\"scaler.pkl\", \"rb\") as f:\n",
    "    scaler_prestamo = pickle.load(f)"
   ]
  },
  {
   "cell_type": "code",
   "execution_count": 27,
   "id": "764e622f-7e15-4b6c-8bcd-86ef7d80a07b",
   "metadata": {},
   "outputs": [],
   "source": [
    "\n",
    "df_approved = scaler_prestamo.transform(df_approved)"
   ]
  },
  {
   "cell_type": "code",
   "execution_count": 28,
   "id": "fb075ccc-0847-4d98-b464-990534225aed",
   "metadata": {},
   "outputs": [
    {
     "data": {
      "text/plain": [
       "array([[ 0.99693937, -0.99693937,  1.00686155, -1.00686155, -0.2937337 ,\n",
       "         1.61470382,  1.62968072,  0.19232546,  0.58235264, -0.80344422,\n",
       "         2.87290346,  0.82791784,  0.9259495 ],\n",
       "       [ 0.99693937, -0.99693937, -0.99318521,  0.99318521,  1.4757615 ,\n",
       "        -1.45361789, -1.4256388 ,  0.19232546, -1.64106947, -0.74143923,\n",
       "        -1.02143836, -1.30544028, -1.29004169],\n",
       "       [-1.00307003,  1.00307003, -0.99318521,  0.99318521, -1.47339716,\n",
       "        -0.63302023, -0.42933896,  1.59378982, -0.23619179, -0.52442175,\n",
       "        -0.47486407, -0.45869505, -0.95148748]])"
      ]
     },
     "execution_count": 28,
     "metadata": {},
     "output_type": "execute_result"
    }
   ],
   "source": [
    "df_approved"
   ]
  },
  {
   "cell_type": "markdown",
   "id": "4b50902a-be92-4cab-8a73-78a5cc5de7ac",
   "metadata": {},
   "source": [
    "## Cargar Modelo"
   ]
  },
  {
   "cell_type": "code",
   "execution_count": 29,
   "id": "97e78123-3cf9-43cb-8b2f-0d8c340759b8",
   "metadata": {},
   "outputs": [],
   "source": [
    "with open(\"model_aprendizaje.sav\", \"rb\") as f:\n",
    "    random_forest_prestamo = pickle.load(f)"
   ]
  },
  {
   "cell_type": "code",
   "execution_count": 30,
   "id": "dfbe1daf-1856-4ce7-8076-67f492aeb260",
   "metadata": {},
   "outputs": [
    {
     "data": {
      "text/plain": [
       "array(['Approved', 'Rejected', 'Approved'], dtype=object)"
      ]
     },
     "execution_count": 30,
     "metadata": {},
     "output_type": "execute_result"
    }
   ],
   "source": [
    "random_forest_prestamo.predict(df_approved)"
   ]
  },
  {
   "cell_type": "code",
   "execution_count": null,
   "id": "9a7de43a-d3cf-483e-87b4-2a47328150f1",
   "metadata": {},
   "outputs": [],
   "source": []
  },
  {
   "cell_type": "code",
   "execution_count": null,
   "id": "075629de-3587-4bf7-82bc-399ede817e84",
   "metadata": {},
   "outputs": [],
   "source": []
  },
  {
   "cell_type": "code",
   "execution_count": null,
   "id": "28070757-e7f0-4add-8268-fac527847245",
   "metadata": {},
   "outputs": [],
   "source": []
  }
 ],
 "metadata": {
  "kernelspec": {
   "display_name": "Python proyecto_01",
   "language": "python",
   "name": "nome_do_ambiente"
  },
  "language_info": {
   "codemirror_mode": {
    "name": "ipython",
    "version": 3
   },
   "file_extension": ".py",
   "mimetype": "text/x-python",
   "name": "python",
   "nbconvert_exporter": "python",
   "pygments_lexer": "ipython3",
   "version": "3.12.9"
  }
 },
 "nbformat": 4,
 "nbformat_minor": 5
}
